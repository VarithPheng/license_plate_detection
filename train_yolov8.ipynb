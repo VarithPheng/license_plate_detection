{
 "cells": [
  {
   "cell_type": "code",
   "execution_count": null,
   "metadata": {},
   "outputs": [],
   "source": [
    "from ultralytics import YOLO\n",
    "\n",
    "# Load the YOLOv8 model\n",
    "model = YOLO('model/yolo.pt')\n",
    "\n",
    "# Enhanced training settings\n",
    "model.train(\n",
    "    data='F:/tii/licenseplatedetection/datasets/data.yaml',  # Full path to data.yaml\n",
    "    epochs=100,  # Increase epochs for more training, possibly improve accuracy\n",
    "    imgsz=1024,  # Increase image size for better detection of smaller details\n",
    "    batch=32,  # Higher batch size for stable gradients, may require sufficient GPU memory\n",
    "    name='carplate_yolo_3',\n",
    "    project='runs/detects',\n",
    "    device=0,  # Use the first GPU\n",
    "    half=True,  # Mixed precision, faster on compatible GPUs\n",
    "    workers=8,  # Parallel data loading\n",
    "    optimizer='AdamW',  # AdamW optimizer, may yield better results for object detection\n",
    "    lr0=0.005,  # Lower initial learning rate to stabilize training\n",
    ")\n",
    "\n",
    "# Validate the model after training\n",
    "model.val()\n"
   ]
  }
 ],
 "metadata": {
  "kernelspec": {
   "display_name": "tii",
   "language": "python",
   "name": "python3"
  },
  "language_info": {
   "codemirror_mode": {
    "name": "ipython",
    "version": 3
   },
   "file_extension": ".py",
   "mimetype": "text/x-python",
   "name": "python",
   "nbconvert_exporter": "python",
   "pygments_lexer": "ipython3",
   "version": "3.10.15"
  }
 },
 "nbformat": 4,
 "nbformat_minor": 2
}
